{
  "nbformat": 4,
  "nbformat_minor": 0,
  "metadata": {
    "colab": {
      "provenance": []
    },
    "kernelspec": {
      "name": "python3",
      "display_name": "Python 3"
    },
    "language_info": {
      "name": "python"
    }
  },
  "cells": [
    {
      "cell_type": "code",
      "execution_count": null,
      "metadata": {
        "id": "fMD0Mu2gU6A5"
      },
      "outputs": [],
      "source": [
        "import pandas as pd"
      ]
    },
    {
      "cell_type": "code",
      "source": [
        "data = {\n",
        "    'Outlook': ['Sunny', 'Sunny', 'Overcast', 'Rain', 'Rain', 'Rain', 'Overcast', 'Sunny', 'Sunny', 'Rain', 'Sunny', 'Overcast', 'Overcast', 'Rain'],\n",
        "    'Temperature': ['Hot', 'Hot', 'Hot', 'Mild', 'Cool', 'Cool', 'Cool', 'Mild', 'Cool', 'Mild', 'Mild', 'Mild', 'Hot', 'Mild'],\n",
        "    'Humidity': ['High', 'High', 'High', 'High', 'Low', 'Low', 'Low', 'High', 'Low', 'Low', 'High', 'High', 'Low', 'High'],\n",
        "    'Wind': ['Weak', 'Strong', 'Weak', 'Weak', 'Weak', 'Strong', 'Strong', 'Weak', 'Weak', 'Weak', 'Strong', 'Strong', 'Weak', 'Strong'],\n",
        "    'Enjoy Sport': ['No', 'No', 'Yes', 'Yes', 'Yes', 'No', 'Yes', 'No', 'Yes', 'Yes', 'Yes', 'Yes', 'Yes', 'No']\n",
        "}\n"
      ],
      "metadata": {
        "id": "1LgRPvjCWBFZ"
      },
      "execution_count": null,
      "outputs": []
    },
    {
      "cell_type": "code",
      "source": [
        "df = pd.DataFrame(data)"
      ],
      "metadata": {
        "id": "tl-bi9piWI8p"
      },
      "execution_count": null,
      "outputs": []
    },
    {
      "cell_type": "code",
      "source": [
        "print(df)"
      ],
      "metadata": {
        "colab": {
          "base_uri": "https://localhost:8080/"
        },
        "id": "MVvsHKcYYoAm",
        "outputId": "8fa4bb29-6e9c-4c86-cbdb-79d855f5a412"
      },
      "execution_count": null,
      "outputs": [
        {
          "output_type": "stream",
          "name": "stdout",
          "text": [
            "     Outlook Temperature Humidity    Wind Enjoy Sport\n",
            "0      Sunny         Hot     High    Weak          No\n",
            "1      Sunny         Hot     High  Strong          No\n",
            "2   Overcast         Hot     High    Weak         Yes\n",
            "3       Rain        Mild     High    Weak         Yes\n",
            "4       Rain        Cool      Low    Weak         Yes\n",
            "5       Rain        Cool      Low  Strong          No\n",
            "6   Overcast        Cool      Low  Strong         Yes\n",
            "7      Sunny        Mild     High    Weak          No\n",
            "8      Sunny        Cool      Low    Weak         Yes\n",
            "9       Rain        Mild      Low    Weak         Yes\n",
            "10     Sunny        Mild     High  Strong         Yes\n",
            "11  Overcast        Mild     High  Strong         Yes\n",
            "12  Overcast         Hot      Low    Weak         Yes\n",
            "13      Rain        Mild     High  Strong          No\n"
          ]
        }
      ]
    },
    {
      "cell_type": "code",
      "source": [
        "positive_examples = df[df['Enjoy Sport'] == 'Yes']"
      ],
      "metadata": {
        "id": "09Q1K6-RW4oc"
      },
      "execution_count": null,
      "outputs": []
    },
    {
      "cell_type": "code",
      "source": [
       
        "initial_hypothesis = positive_examples.iloc[0, :-1].values\n",
        "hypothesis = initial_hypothesis"
      ],
      "metadata": {
        "id": "Ls-isbXYW9qE"
      },
      "execution_count": null,
      "outputs": []
    },
    {
      "cell_type": "code",
      "source": [
        "for index, example in positive_examples.iloc[1:].iterrows():\n",
        "    for i in range(len(hypothesis)):\n",
        "        # If the current hypothesis doesn't match the current example, generalize it\n",
        "        if hypothesis[i] != example[i]:\n",
        "            hypothesis[i] = '?'\n",
        "\n",
        
        "print(f\"The most specific hypothesis for the 'Enjoy Sport' concept is: {hypothesis}\")"
      ],
      "metadata": {
        "colab": {
          "base_uri": "https://localhost:8080/"
        },
        "id": "0lUBoWGAXF7r",
        "outputId": "0cf81f1a-e136-47f4-83cd-c73f5745a937"
      },
      "execution_count": null,
      "outputs": [
        {
          "output_type": "stream",
          "name": "stdout",
          "text": [
            "The most specific hypothesis for the 'Enjoy Sport' concept is: ['?' '?' '?' '?']\n"
          ]
        },
        {
          "output_type": "stream",
          "name": "stderr",
          "text": [
            "<ipython-input-16-3e9a79fe7244>:4: FutureWarning: Series.__getitem__ treating keys as positions is deprecated. In a future version, integer keys will always be treated as labels (consistent with DataFrame behavior). To access a value by position, use `ser.iloc[pos]`\n",
            "  if hypothesis[i] != example[i]:\n"
          ]
        }
      ]
    }
  ]
}
